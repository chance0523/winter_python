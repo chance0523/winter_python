{
 "cells": [
  {
   "cell_type": "code",
   "execution_count": 1,
   "metadata": {},
   "outputs": [],
   "source": [
    "import requests"
   ]
  },
  {
   "cell_type": "code",
   "execution_count": null,
   "metadata": {},
   "outputs": [],
   "source": [
    "API_HOST = 'https://dapi.kakao.com'\n",
    "headers = {'Authorization': 'KakaoAK 033941a521984770dd51894613bf76dc'}\n",
    "\n",
    "def req(path, query, method, data={}):\n",
    "    url = API_HOST + path\n",
    "    print('HTTP Method: %s' % method)\n",
    "    print('Request URL: %s' % url)\n",
    "    print('Headers: %s' % headers)\n",
    "    print('QueryString: %s' % query)\n",
    "    \n",
    "    if method == 'GET':\n",
    "        return requests.get(url, headers=headers)\n",
    "    else:\n",
    "        return requests.post(url, headers=headers, data=data)\n",
    "    \n",
    "resp = req('/v2/local/geo/transcoord?', '', 'GET')\n",
    "print(\"response status:\\n%d\" % resp.status_code)\n",
    "print(\"response headers:\\n%s\" % resp.headers)\n",
    "print(\"response body:\\n%s\" % resp.text)"
   ]
  },
  {
   "cell_type": "code",
   "execution_count": null,
   "metadata": {},
   "outputs": [],
   "source": []
  }
 ],
 "metadata": {
  "kernelspec": {
   "display_name": "Python 3",
   "language": "python",
   "name": "python3"
  },
  "language_info": {
   "codemirror_mode": {
    "name": "ipython",
    "version": 3
   },
   "file_extension": ".py",
   "mimetype": "text/x-python",
   "name": "python",
   "nbconvert_exporter": "python",
   "pygments_lexer": "ipython3",
   "version": "3.7.3"
  }
 },
 "nbformat": 4,
 "nbformat_minor": 2
}
