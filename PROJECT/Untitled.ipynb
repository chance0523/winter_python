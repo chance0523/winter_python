{
 "cells": [
  {
   "cell_type": "code",
   "execution_count": 1,
   "metadata": {},
   "outputs": [],
   "source": [
    "import geopandas as gpd\n",
    "import pandas\n",
    "import matplotlib.pyplot as plt\n",
    "import os"
   ]
  },
  {
   "cell_type": "code",
   "execution_count": 2,
   "metadata": {},
   "outputs": [],
   "source": [
    "plt.rcParams[\"font.family\"] = 'NanumGothic'\n",
    "plt.rcParams[\"figure.figsize\"] = (10, 10)"
   ]
  },
  {
   "cell_type": "code",
   "execution_count": 4,
   "metadata": {},
   "outputs": [],
   "source": [
    "gangnam_file=\"D:/VSCode/winter_python/python/jupyter_practice/j0122/PROJECT/11680.shp\"\n",
    "gangnam = gpd.read_file(gangnam_file, encoding='euc-kr')"
   ]
  },
  {
   "cell_type": "code",
   "execution_count": 5,
   "metadata": {},
   "outputs": [],
   "source": [
    "map_num_list = []\n",
    "for i in gangnam.Map_num:\n",
    "    map_num_list.append(i)"
   ]
  },
  {
   "cell_type": "code",
   "execution_count": 6,
   "metadata": {},
   "outputs": [],
   "source": [
    "fifth_frtp = []\n",
    "for i in gangnam.FIFTH_FRTP:\n",
    "    fifth_frtp.append(i)"
   ]
  },
  {
   "cell_type": "code",
   "execution_count": 7,
   "metadata": {},
   "outputs": [],
   "source": [
    "dmcls_cd = []\n",
    "for i in gangnam.DMCLS_CD:\n",
    "    dmcls_cd.append(i)"
   ]
  },
  {
   "cell_type": "code",
   "execution_count": 8,
   "metadata": {},
   "outputs": [],
   "source": [
    "agcls_cd = []\n",
    "for i in gangnam.AGCLS_CD:\n",
    "    agcls_cd.append(i)"
   ]
  },
  {
   "cell_type": "code",
   "execution_count": 9,
   "metadata": {},
   "outputs": [],
   "source": [
    "dnst_cd = []\n",
    "for i in gangnam.DNST_CD:\n",
    "    dnst_cd.append(i)"
   ]
  },
  {
   "cell_type": "code",
   "execution_count": 10,
   "metadata": {},
   "outputs": [],
   "source": [
    "smbl_cd = []\n",
    "for i in gangnam.SMBL_CD:\n",
    "    smbl_cd.append(i)"
   ]
  },
  {
   "cell_type": "code",
   "execution_count": 11,
   "metadata": {},
   "outputs": [],
   "source": [
    "map_name = []\n",
    "for i in gangnam.Map_name:\n",
    "    map_name.append(i) "
   ]
  },
  {
   "cell_type": "code",
   "execution_count": 12,
   "metadata": {},
   "outputs": [],
   "source": [
    "sd_nm = []\n",
    "for i in gangnam.SD_NM:\n",
    "    sd_nm.append(i)"
   ]
  },
  {
   "cell_type": "code",
   "execution_count": 13,
   "metadata": {},
   "outputs": [],
   "source": [
    "sd_cd = []\n",
    "for i in gangnam.SD_CD:\n",
    "    sd_cd.append(i)"
   ]
  },
  {
   "cell_type": "code",
   "execution_count": 14,
   "metadata": {},
   "outputs": [],
   "source": [
    "sgg_nm = []\n",
    "for i in gangnam.SGG_NM:\n",
    "    sgg_nm.append(i)"
   ]
  },
  {
   "cell_type": "code",
   "execution_count": 15,
   "metadata": {},
   "outputs": [],
   "source": [
    "sgg_cd = []\n",
    "for i in gangnam.SGG_CD:\n",
    "    sgg_cd.append(i)"
   ]
  },
  {
   "cell_type": "code",
   "execution_count": 19,
   "metadata": {},
   "outputs": [
    {
     "ename": "TypeError",
     "evalue": "'Polygon' object is not subscriptable",
     "output_type": "error",
     "traceback": [
      "\u001b[1;31m---------------------------------------------------------------------------\u001b[0m",
      "\u001b[1;31mTypeError\u001b[0m                                 Traceback (most recent call last)",
      "\u001b[1;32m<ipython-input-19-daa402bf9681>\u001b[0m in \u001b[0;36m<module>\u001b[1;34m\u001b[0m\n\u001b[0;32m      1\u001b[0m \u001b[0mgeometry_list\u001b[0m \u001b[1;33m=\u001b[0m \u001b[1;33m[\u001b[0m\u001b[1;33m]\u001b[0m\u001b[1;33m\u001b[0m\u001b[1;33m\u001b[0m\u001b[0m\n\u001b[0;32m      2\u001b[0m \u001b[1;32mfor\u001b[0m \u001b[0mi\u001b[0m \u001b[1;32min\u001b[0m \u001b[0mgangnam\u001b[0m\u001b[1;33m.\u001b[0m\u001b[0mgeometry\u001b[0m\u001b[1;33m:\u001b[0m\u001b[1;33m\u001b[0m\u001b[1;33m\u001b[0m\u001b[0m\n\u001b[1;32m----> 3\u001b[1;33m     \u001b[0mgeometry_list\u001b[0m\u001b[1;33m.\u001b[0m\u001b[0mappend\u001b[0m\u001b[1;33m(\u001b[0m\u001b[0mi\u001b[0m\u001b[1;33m[\u001b[0m\u001b[1;33m:\u001b[0m\u001b[1;36m10\u001b[0m\u001b[1;33m]\u001b[0m\u001b[1;33m)\u001b[0m\u001b[1;33m\u001b[0m\u001b[1;33m\u001b[0m\u001b[0m\n\u001b[0m",
      "\u001b[1;31mTypeError\u001b[0m: 'Polygon' object is not subscriptable"
     ]
    }
   ],
   "source": [
    "geometry_list = []\n",
    "for i in gangnam.geometry:\n",
    "    geometry_list.append(i)"
   ]
  },
  {
   "cell_type": "code",
   "execution_count": 17,
   "metadata": {},
   "outputs": [
    {
     "name": "stdout",
     "output_type": "stream",
     "text": [
      "149\n"
     ]
    }
   ],
   "source": [
    "data_dict = {\n",
    "    'Map_num':map_num_list,\n",
    "    'FIFTH_FRTP':fifth_frtp,\n",
    "    'DMCLS_CD':dmcls_cd,\n",
    "    'AGCLS_CD':agcls_cd,\n",
    "    'DNST_CD':dnst_cd,\n",
    "    'SMBL_CD':smbl_cd,\n",
    "    'Map_name':map_name,\n",
    "    'SD_NM':sd_nm,\n",
    "    'SD_CD':sd_cd,\n",
    "    'SGG_NM':sgg_nm,\n",
    "    'SGG_CD':sgg_cd,\n",
    "    'geometry':geometry_list\n",
    "}\n",
    "\n",
    "print(len(data_dict['FIFTH_FRTP']))\n",
    "\n",
    "df1 = pandas.DataFrame(data_dict)\n",
    "# df1\n",
    "\n",
    "df1.to_csv('gangnam2.csv', index=False, encoding='utf-8-sig')\n",
    "\n",
    "# # if os.path.exists('gangnam.csv') == False:\n",
    "# #     df1.columns = ['Map_num']\n",
    "# #     df1.to_csv('gangnam.csv', index=False, encoding='utf-8-sig')\n",
    "# # else:\n",
    "# #     df1.to_csv('gangnam.csv', index=False, encoding='utf-8-sig', mode='a', header=False)\n",
    "\n",
    "# # print('수집 완료')\n",
    "\n",
    "# df1 = pandas.DataFrame([[gangnam.Map_num, gangnam.FIFTH_FRTP, gangnam.DMCLS_CD, gangnam.AGCLS_CD, gangnam.DNST_CD, gangnam.SMBL_CD, gangnam.Map_name, gangnam.SD_NM, gangnam.SD_CD, gangnam.SGG_NM, gangnam.SGG_CD, gangnam.geometry]])\n",
    "\n",
    "# if os.path.exists('gangnam.csv') == False:\n",
    "#     df1.columns = ['Map_num', 'FIFTH_FRTP', 'DMCLS_CD', 'AGCLS_CD', 'DNST_CD', 'SMBL_CD', 'Map_name', 'SD_NM', 'SD_CD', 'SGG_NM', 'SGG_CD', 'geometry']\n",
    "#     df1.to_csv('gangnam.csv', index=False, encoding='utf-8-sig')\n",
    "# else:\n",
    "#     df1.to_csv('gangnam.csv', index=False, encoding='utf-8-sig', mode='a', header=False)\n",
    "\n",
    "# print('수집 완료')\n",
    "\n",
    "# gangnam.head()"
   ]
  },
  {
   "cell_type": "code",
   "execution_count": null,
   "metadata": {},
   "outputs": [],
   "source": [
    "print(type(gangnam.Map_num))\n",
    "print(gangnam.FIFTH_FRTP[1])"
   ]
  },
  {
   "cell_type": "code",
   "execution_count": null,
   "metadata": {},
   "outputs": [],
   "source": []
  }
 ],
 "metadata": {
  "kernelspec": {
   "display_name": "Python 3",
   "language": "python",
   "name": "python3"
  },
  "language_info": {
   "codemirror_mode": {
    "name": "ipython",
    "version": 3
   },
   "file_extension": ".py",
   "mimetype": "text/x-python",
   "name": "python",
   "nbconvert_exporter": "python",
   "pygments_lexer": "ipython3",
   "version": "3.7.3"
  }
 },
 "nbformat": 4,
 "nbformat_minor": 2
}
