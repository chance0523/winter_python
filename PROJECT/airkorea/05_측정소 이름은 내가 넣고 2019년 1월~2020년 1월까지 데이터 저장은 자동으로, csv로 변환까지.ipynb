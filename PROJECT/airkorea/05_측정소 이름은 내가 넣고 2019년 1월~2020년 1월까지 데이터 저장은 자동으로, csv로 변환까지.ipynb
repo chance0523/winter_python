{
 "cells": [
  {
   "cell_type": "code",
   "execution_count": 1,
   "metadata": {},
   "outputs": [],
   "source": [
    "from selenium import webdriver\n",
    "import time\n",
    "import pandas as pd\n",
    "from selenium.webdriver.support.ui import Select\n",
    "import os"
   ]
  },
  {
   "cell_type": "code",
   "execution_count": 2,
   "metadata": {},
   "outputs": [],
   "source": [
    "driver = webdriver.Chrome()"
   ]
  },
  {
   "cell_type": "code",
   "execution_count": 3,
   "metadata": {},
   "outputs": [],
   "source": [
    "# airkorea 미세먼지 접속\n",
    "driver.get('https://www.airkorea.or.kr/web/realSearch')"
   ]
  },
  {
   "cell_type": "markdown",
   "metadata": {},
   "source": [
    "측정소 설정은 일단 수동으로 해야한다."
   ]
  },
  {
   "cell_type": "code",
   "execution_count": 6,
   "metadata": {},
   "outputs": [],
   "source": [
    "def get_start_date_css():\n",
    "    child_num = 1\n",
    "    while True:\n",
    "        calender = driver.find_element_by_css_selector('#ui-datepicker-div')\n",
    "        cur_date = calender.find_element_by_css_selector(f'#ui-datepicker-div > table > tbody > tr:nth-child(1) > td:nth-child({child_num})')\n",
    "        if cur_date.text != ' ':\n",
    "            return cur_date\n",
    "        else:\n",
    "            child_num = child_num + 1"
   ]
  },
  {
   "cell_type": "code",
   "execution_count": 7,
   "metadata": {},
   "outputs": [],
   "source": [
    "def get_last_date_css():\n",
    "    child_num = 7\n",
    "    while True:\n",
    "        calender = driver.find_element_by_css_selector('#ui-datepicker-div')\n",
    "        cur_date = calender.find_element_by_css_selector(f'#ui-datepicker-div > table > tbody > tr:nth-last-child(1) > td:nth-child({child_num})')\n",
    "        if cur_date.text != ' ':\n",
    "            return cur_date\n",
    "        else:\n",
    "            child_num = child_num - 1"
   ]
  },
  {
   "cell_type": "code",
   "execution_count": 8,
   "metadata": {},
   "outputs": [],
   "source": [
    "# 측정 시작 날짜 함수\n",
    "def from_date(year, month):\n",
    "    # 왼쪽 달력 (시작날짜) 클릭\n",
    "    date_btn1 = driver.find_element_by_css_selector('#tab1 > div.search_head.MgT10 > img:nth-child(10)')\n",
    "    date_btn1.click()\n",
    "\n",
    "    calender1 = driver.find_element_by_css_selector('#ui-datepicker-div')\n",
    "\n",
    "    # 연도 설정\n",
    "    year1_dropdown = calender1.find_element_by_class_name('ui-datepicker-year')\n",
    "    year1 = Select(year1_dropdown)\n",
    "    year1.select_by_value(f'{year}')\n",
    "\n",
    "    # 달 설정\n",
    "    month_dropdown1 = calender1.find_element_by_class_name('ui-datepicker-month')\n",
    "    month1 = Select(month_dropdown1)\n",
    "    month = month - 1 # 0이 1월이기때문에 하나씩 빼줌\n",
    "    month = str(month)\n",
    "    month1.select_by_value(f'{month}') # 0이 1월\n",
    "\n",
    "    # 일 설정 (1일부터 시작)\n",
    "    date1 = get_start_date_css()\n",
    "    date1.click()\n",
    "\n",
    "    # 시간 설정 (1로 설정)\n",
    "    time1_dropdown = driver.find_element_by_css_selector('#from_date_hour')\n",
    "    time1 = Select(time1_dropdown)\n",
    "    time1.select_by_value('00') # 0이 1시"
   ]
  },
  {
   "cell_type": "code",
   "execution_count": 9,
   "metadata": {},
   "outputs": [],
   "source": [
    "def from_date_init(year):\n",
    "    # 왼쪽 달력 (시작날짜) 클릭\n",
    "    date_btn1 = driver.find_element_by_css_selector('#tab1 > div.search_head.MgT10 > img:nth-child(10)')\n",
    "    date_btn1.click()\n",
    "\n",
    "    calender1 = driver.find_element_by_css_selector('#ui-datepicker-div')\n",
    "\n",
    "    # 연도 설정\n",
    "    year1_dropdown = calender1.find_element_by_class_name('ui-datepicker-year')\n",
    "    year1 = Select(year1_dropdown)\n",
    "    year1.select_by_value(f'{year}')\n",
    "    \n",
    "    month_dropdown1 = calender1.find_element_by_class_name('ui-datepicker-month')\n",
    "    month1 = Select(month_dropdown1)\n",
    "    month1.select_by_value('0') # 0이 1월\n",
    "    \n",
    "    # 일 설정 (1일부터 시작)\n",
    "    date1 = get_start_date_css()\n",
    "    date1.click()\n",
    "    \n",
    "    # 시간 설정 (1로 설정)\n",
    "    time1_dropdown = driver.find_element_by_css_selector('#from_date_hour')\n",
    "    time1 = Select(time1_dropdown)\n",
    "    time1.select_by_value('00') # 0이 1시"
   ]
  },
  {
   "cell_type": "code",
   "execution_count": 10,
   "metadata": {},
   "outputs": [],
   "source": [
    "def from_date_month_change(month):\n",
    "    # 왼쪽 달력 (시작날짜) 클릭\n",
    "    date_btn1 = driver.find_element_by_css_selector('#tab1 > div.search_head.MgT10 > img:nth-child(10)')\n",
    "    date_btn1.click()\n",
    "    \n",
    "    calender1 = driver.find_element_by_css_selector('#ui-datepicker-div')\n",
    "    # 달 설정\n",
    "    month_dropdown1 = calender1.find_element_by_class_name('ui-datepicker-month')\n",
    "    month1 = Select(month_dropdown1)\n",
    "    month = month - 1 # 0이 1월이기때문에 하나씩 빼줌\n",
    "    month = str(month)\n",
    "    month1.select_by_value(f'{month}') # 0이 1월\n",
    "\n",
    "    # 일 설정 (1일부터 시작)\n",
    "    date1 = get_start_date_css()\n",
    "    date1.click()"
   ]
  },
  {
   "cell_type": "code",
   "execution_count": 11,
   "metadata": {},
   "outputs": [],
   "source": [
    "# 측정 종료 날짜 함수\n",
    "def to_date(year, month):\n",
    "    # 오른쪽 달력 (종료날짜) 클릭\n",
    "    date_btn2 = driver.find_element_by_css_selector('#tab1 > div.search_head.MgT10 > img:nth-child(14)')\n",
    "    date_btn2.click()\n",
    "\n",
    "    calender2 = driver.find_element_by_css_selector('#ui-datepicker-div')\n",
    "\n",
    "    # 연도 설정\n",
    "    year2_dropdown = calender2.find_element_by_class_name('ui-datepicker-year')\n",
    "    year2 = Select(year2_dropdown)\n",
    "    year2.select_by_value(f'{year}')\n",
    "\n",
    "    # 달 설정\n",
    "    month2_dropdown = calender2.find_element_by_class_name('ui-datepicker-month')\n",
    "    month2 = Select(month2_dropdown)\n",
    "    month = month - 1 # 0이 1월이기때문에 하나씩 빼줌\n",
    "    month = str(month)\n",
    "    month2.select_by_value(f'{month}') # 0이 1월\n",
    "\n",
    "    # 일 설정\n",
    "    date2 = get_last_date_css()\n",
    "    date2.click()\n",
    "\n",
    "    # 시간 설정 (1로 설정)\n",
    "    time2_dropdown = driver.find_element_by_css_selector('#to_date_hour')\n",
    "    time2 = Select(time2_dropdown)\n",
    "    time2.select_by_value('23') # 23이 24시"
   ]
  },
  {
   "cell_type": "code",
   "execution_count": 12,
   "metadata": {},
   "outputs": [],
   "source": [
    "def to_date_init(year):\n",
    "    # 오른쪽 달력 (종료날짜) 클릭\n",
    "    date_btn2 = driver.find_element_by_css_selector('#tab1 > div.search_head.MgT10 > img:nth-child(14)')\n",
    "    date_btn2.click()\n",
    "\n",
    "    calender2 = driver.find_element_by_css_selector('#ui-datepicker-div')\n",
    "\n",
    "    # 연도 설정\n",
    "    year2_dropdown = calender2.find_element_by_class_name('ui-datepicker-year')\n",
    "    year2 = Select(year2_dropdown)\n",
    "    year2.select_by_value(f'{year}')\n",
    "    \n",
    "    month2_dropdown = calender2.find_element_by_class_name('ui-datepicker-month')\n",
    "    month2 = Select(month2_dropdown)\n",
    "    month2.select_by_value('0') # 0이 1월\n",
    "    \n",
    "    # 일 설정\n",
    "    date2 = get_last_date_css()\n",
    "    date2.click()\n",
    "    \n",
    "    # 시간 설정 (1로 설정)\n",
    "    time2_dropdown = driver.find_element_by_css_selector('#to_date_hour')\n",
    "    time2 = Select(time2_dropdown)\n",
    "    time2.select_by_value('23') # 23이 24시"
   ]
  },
  {
   "cell_type": "code",
   "execution_count": 13,
   "metadata": {},
   "outputs": [],
   "source": [
    "def to_date_month_change(month):\n",
    "    # 오른쪽 달력 (종료날짜) 클릭\n",
    "    date_btn2 = driver.find_element_by_css_selector('#tab1 > div.search_head.MgT10 > img:nth-child(14)')\n",
    "    date_btn2.click()\n",
    "    \n",
    "    calender2 = driver.find_element_by_css_selector('#ui-datepicker-div')\n",
    "    # 달 설정\n",
    "    month2_dropdown = calender2.find_element_by_class_name('ui-datepicker-month')\n",
    "    month2 = Select(month2_dropdown)\n",
    "    month = month - 1 # 0이 1월이기때문에 하나씩 빼줌\n",
    "    month = str(month)\n",
    "    month2.select_by_value(f'{month}') # 0이 1월\n",
    "\n",
    "    # 일 설정\n",
    "    date2 = get_last_date_css()\n",
    "    date2.click()"
   ]
  },
  {
   "cell_type": "code",
   "execution_count": 14,
   "metadata": {},
   "outputs": [],
   "source": [
    "def get_xls():\n",
    "    # 엑셀 저장\n",
    "    get_xls = driver.find_element_by_css_selector('#tab1 > div.search_head.MgT10 > a.xls')\n",
    "    get_xls.click()"
   ]
  },
  {
   "cell_type": "code",
   "execution_count": 15,
   "metadata": {},
   "outputs": [],
   "source": [
    "def get_all_year_xls():\n",
    "    yearList = ['2016','2017','2018','2019','2020']\n",
    "    for year in yearList:\n",
    "        if year != '2020':\n",
    "            for month in range(1,13):\n",
    "                from_date(year, month)\n",
    "                to_date(year, month)\n",
    "                get_xls()\n",
    "        elif year == '2020':\n",
    "            from_date(year, 1)\n",
    "            to_date(year, 1)\n",
    "            get_xls()"
   ]
  },
  {
   "cell_type": "code",
   "execution_count": 16,
   "metadata": {},
   "outputs": [],
   "source": [
    "def get_specific_year_xls(year):\n",
    "    if year != '2020':\n",
    "        from_date_init(year)\n",
    "#         time.sleep(2)\n",
    "        to_date_init(year)\n",
    "        for month in range(1,13):\n",
    "            from_date_month_change(month)\n",
    "#             time.sleep(2)\n",
    "            to_date_month_change(month)\n",
    "#             time.sleep(2)\n",
    "            get_xls()\n",
    "    elif year == '2020':\n",
    "        from_date_init(year)\n",
    "#         time.sleep(2)\n",
    "        to_date_init(year)\n",
    "        from_date_month_change(1)\n",
    "#         time.sleep(2)\n",
    "        to_date_month_change(1)\n",
    "#         time.sleep(2)\n",
    "        get_xls()\n",
    "    time.sleep(2)"
   ]
  },
  {
   "cell_type": "code",
   "execution_count": 17,
   "metadata": {},
   "outputs": [],
   "source": [
    "def convert_to_csv(year, station_name):\n",
    "    if not os.path.exists(f'{station_name}'):\n",
    "        os.makedirs(f'{station_name}')\n",
    "    os.makedirs(f'{station_name}/{year}')\n",
    "    option1 = [_ for _ in range(13)]\n",
    "    if year != '2020':\n",
    "        for month in range(1,13):\n",
    "            xls = pd.read_excel(f'C:/Users/user/Downloads/last_amb_hour_time ({month}).xls',names=option1)\n",
    "            result_list = []\n",
    "            for i in range(len(xls)-1, 4, -1):\n",
    "                result_list.append([xls[0][i], xls[2][i], xls[4][i]])\n",
    "            option2 = ['time','pm10','pm2.5']\n",
    "            df1 = pd.DataFrame(result_list, columns=option2)\n",
    "            df1.to_csv(f'{station_name}/{year}/{station_name}_{year}_{month}.csv',index=False,encoding='utf-8-sig')\n",
    "    else:\n",
    "        xls = pd.read_excel(f'C:/Users/user/Downloads/last_amb_hour_time (1).xls',names=option1)\n",
    "        result_list = []\n",
    "        for i in range(len(xls)-1, 4, -1):\n",
    "            result_list.append([xls[0][i], xls[2][i], xls[4][i]])\n",
    "            option2 = ['time','pm10','pm2.5']\n",
    "            df1 = pd.DataFrame(result_list, columns=option2)\n",
    "            df1.to_csv(f'{station_name}/{year}/{station_name}_2020_1.csv',index=False,encoding='utf-8-sig')"
   ]
  },
  {
   "cell_type": "code",
   "execution_count": 18,
   "metadata": {},
   "outputs": [],
   "source": [
    "def main_all(station_name):\n",
    "    yearList = ['2016','2017','2018','2019','2020']\n",
    "    for year in yearList:\n",
    "        if year != '2020':\n",
    "            get_specific_year_xls(year)\n",
    "            convert_to_csv(year,station_name)\n",
    "            for month in range(1,13):\n",
    "                os.remove(f\"C:/Users/user/Downloads/last_amb_hour_time ({month}).xls\")\n",
    "        else:\n",
    "            get_specific_year_xls(year)\n",
    "            convert_to_csv(year, station_name)\n",
    "            os.remove(f\"C:/Users/user/Downloads/last_amb_hour_time (1).xls\")"
   ]
  },
  {
   "cell_type": "code",
   "execution_count": 19,
   "metadata": {},
   "outputs": [],
   "source": [
    "def main_one(station_name, year):\n",
    "    if year!= '2020':\n",
    "        get_specific_year_xls(year)\n",
    "        convert_to_csv(year,station_name)\n",
    "        for month in range(1,13):\n",
    "            os.remove(f\"C:/Users/user/Downloads/last_amb_hour_time ({month}).xls\")\n",
    "    else:\n",
    "        get_specific_year_xls(year)\n",
    "        convert_to_csv(year, station_name)\n",
    "        os.remove(f\"C:/Users/user/Downloads/last_amb_hour_time (1).xls\")"
   ]
  },
  {
   "cell_type": "code",
   "execution_count": 20,
   "metadata": {},
   "outputs": [],
   "source": [
    "# main('Gangnam_Dosandaero')"
   ]
  },
  {
   "cell_type": "code",
   "execution_count": 21,
   "metadata": {},
   "outputs": [
    {
     "ename": "NoSuchElementException",
     "evalue": "Message: no such element: Unable to locate element: {\"method\":\"css selector\",\"selector\":\"#tab1 > div.search_head.MgT10 > img:nth-child(10)\"}\n  (Session info: chrome=79.0.3945.130)\n",
     "output_type": "error",
     "traceback": [
      "\u001b[1;31m---------------------------------------------------------------------------\u001b[0m",
      "\u001b[1;31mNoSuchElementException\u001b[0m                    Traceback (most recent call last)",
      "\u001b[1;32m<ipython-input-21-8086a4d1f875>\u001b[0m in \u001b[0;36m<module>\u001b[1;34m\u001b[0m\n\u001b[1;32m----> 1\u001b[1;33m \u001b[0mmain_one\u001b[0m\u001b[1;33m(\u001b[0m\u001b[1;34m'Gwangjin_Gwangnaruro'\u001b[0m\u001b[1;33m,\u001b[0m\u001b[1;34m'2016'\u001b[0m\u001b[1;33m)\u001b[0m\u001b[1;33m\u001b[0m\u001b[1;33m\u001b[0m\u001b[0m\n\u001b[0m",
      "\u001b[1;32m<ipython-input-19-06a73903cf79>\u001b[0m in \u001b[0;36mmain_one\u001b[1;34m(station_name, year)\u001b[0m\n\u001b[0;32m      1\u001b[0m \u001b[1;32mdef\u001b[0m \u001b[0mmain_one\u001b[0m\u001b[1;33m(\u001b[0m\u001b[0mstation_name\u001b[0m\u001b[1;33m,\u001b[0m \u001b[0myear\u001b[0m\u001b[1;33m)\u001b[0m\u001b[1;33m:\u001b[0m\u001b[1;33m\u001b[0m\u001b[1;33m\u001b[0m\u001b[0m\n\u001b[0;32m      2\u001b[0m     \u001b[1;32mif\u001b[0m \u001b[0myear\u001b[0m\u001b[1;33m!=\u001b[0m \u001b[1;34m'2020'\u001b[0m\u001b[1;33m:\u001b[0m\u001b[1;33m\u001b[0m\u001b[1;33m\u001b[0m\u001b[0m\n\u001b[1;32m----> 3\u001b[1;33m         \u001b[0mget_specific_year_xls\u001b[0m\u001b[1;33m(\u001b[0m\u001b[0myear\u001b[0m\u001b[1;33m)\u001b[0m\u001b[1;33m\u001b[0m\u001b[1;33m\u001b[0m\u001b[0m\n\u001b[0m\u001b[0;32m      4\u001b[0m         \u001b[0mconvert_to_csv\u001b[0m\u001b[1;33m(\u001b[0m\u001b[0myear\u001b[0m\u001b[1;33m,\u001b[0m\u001b[0mstation_name\u001b[0m\u001b[1;33m)\u001b[0m\u001b[1;33m\u001b[0m\u001b[1;33m\u001b[0m\u001b[0m\n\u001b[0;32m      5\u001b[0m         \u001b[1;32mfor\u001b[0m \u001b[0mmonth\u001b[0m \u001b[1;32min\u001b[0m \u001b[0mrange\u001b[0m\u001b[1;33m(\u001b[0m\u001b[1;36m1\u001b[0m\u001b[1;33m,\u001b[0m\u001b[1;36m13\u001b[0m\u001b[1;33m)\u001b[0m\u001b[1;33m:\u001b[0m\u001b[1;33m\u001b[0m\u001b[1;33m\u001b[0m\u001b[0m\n",
      "\u001b[1;32m<ipython-input-16-8d1b15cb5867>\u001b[0m in \u001b[0;36mget_specific_year_xls\u001b[1;34m(year)\u001b[0m\n\u001b[0;32m      5\u001b[0m         \u001b[0mto_date_init\u001b[0m\u001b[1;33m(\u001b[0m\u001b[0myear\u001b[0m\u001b[1;33m)\u001b[0m\u001b[1;33m\u001b[0m\u001b[1;33m\u001b[0m\u001b[0m\n\u001b[0;32m      6\u001b[0m         \u001b[1;32mfor\u001b[0m \u001b[0mmonth\u001b[0m \u001b[1;32min\u001b[0m \u001b[0mrange\u001b[0m\u001b[1;33m(\u001b[0m\u001b[1;36m1\u001b[0m\u001b[1;33m,\u001b[0m\u001b[1;36m13\u001b[0m\u001b[1;33m)\u001b[0m\u001b[1;33m:\u001b[0m\u001b[1;33m\u001b[0m\u001b[1;33m\u001b[0m\u001b[0m\n\u001b[1;32m----> 7\u001b[1;33m             \u001b[0mfrom_date_month_change\u001b[0m\u001b[1;33m(\u001b[0m\u001b[0mmonth\u001b[0m\u001b[1;33m)\u001b[0m\u001b[1;33m\u001b[0m\u001b[1;33m\u001b[0m\u001b[0m\n\u001b[0m\u001b[0;32m      8\u001b[0m \u001b[1;31m#             time.sleep(2)\u001b[0m\u001b[1;33m\u001b[0m\u001b[1;33m\u001b[0m\u001b[1;33m\u001b[0m\u001b[0m\n\u001b[0;32m      9\u001b[0m             \u001b[0mto_date_month_change\u001b[0m\u001b[1;33m(\u001b[0m\u001b[0mmonth\u001b[0m\u001b[1;33m)\u001b[0m\u001b[1;33m\u001b[0m\u001b[1;33m\u001b[0m\u001b[0m\n",
      "\u001b[1;32m<ipython-input-10-e9ff9789df6a>\u001b[0m in \u001b[0;36mfrom_date_month_change\u001b[1;34m(month)\u001b[0m\n\u001b[0;32m      1\u001b[0m \u001b[1;32mdef\u001b[0m \u001b[0mfrom_date_month_change\u001b[0m\u001b[1;33m(\u001b[0m\u001b[0mmonth\u001b[0m\u001b[1;33m)\u001b[0m\u001b[1;33m:\u001b[0m\u001b[1;33m\u001b[0m\u001b[1;33m\u001b[0m\u001b[0m\n\u001b[0;32m      2\u001b[0m     \u001b[1;31m# 왼쪽 달력 (시작날짜) 클릭\u001b[0m\u001b[1;33m\u001b[0m\u001b[1;33m\u001b[0m\u001b[1;33m\u001b[0m\u001b[0m\n\u001b[1;32m----> 3\u001b[1;33m     \u001b[0mdate_btn1\u001b[0m \u001b[1;33m=\u001b[0m \u001b[0mdriver\u001b[0m\u001b[1;33m.\u001b[0m\u001b[0mfind_element_by_css_selector\u001b[0m\u001b[1;33m(\u001b[0m\u001b[1;34m'#tab1 > div.search_head.MgT10 > img:nth-child(10)'\u001b[0m\u001b[1;33m)\u001b[0m\u001b[1;33m\u001b[0m\u001b[1;33m\u001b[0m\u001b[0m\n\u001b[0m\u001b[0;32m      4\u001b[0m     \u001b[0mdate_btn1\u001b[0m\u001b[1;33m.\u001b[0m\u001b[0mclick\u001b[0m\u001b[1;33m(\u001b[0m\u001b[1;33m)\u001b[0m\u001b[1;33m\u001b[0m\u001b[1;33m\u001b[0m\u001b[0m\n\u001b[0;32m      5\u001b[0m \u001b[1;33m\u001b[0m\u001b[0m\n",
      "\u001b[1;32mD:\\Anaconda3\\lib\\site-packages\\selenium\\webdriver\\remote\\webdriver.py\u001b[0m in \u001b[0;36mfind_element_by_css_selector\u001b[1;34m(self, css_selector)\u001b[0m\n\u001b[0;32m    596\u001b[0m             \u001b[0melement\u001b[0m \u001b[1;33m=\u001b[0m \u001b[0mdriver\u001b[0m\u001b[1;33m.\u001b[0m\u001b[0mfind_element_by_css_selector\u001b[0m\u001b[1;33m(\u001b[0m\u001b[1;34m'#foo'\u001b[0m\u001b[1;33m)\u001b[0m\u001b[1;33m\u001b[0m\u001b[1;33m\u001b[0m\u001b[0m\n\u001b[0;32m    597\u001b[0m         \"\"\"\n\u001b[1;32m--> 598\u001b[1;33m         \u001b[1;32mreturn\u001b[0m \u001b[0mself\u001b[0m\u001b[1;33m.\u001b[0m\u001b[0mfind_element\u001b[0m\u001b[1;33m(\u001b[0m\u001b[0mby\u001b[0m\u001b[1;33m=\u001b[0m\u001b[0mBy\u001b[0m\u001b[1;33m.\u001b[0m\u001b[0mCSS_SELECTOR\u001b[0m\u001b[1;33m,\u001b[0m \u001b[0mvalue\u001b[0m\u001b[1;33m=\u001b[0m\u001b[0mcss_selector\u001b[0m\u001b[1;33m)\u001b[0m\u001b[1;33m\u001b[0m\u001b[1;33m\u001b[0m\u001b[0m\n\u001b[0m\u001b[0;32m    599\u001b[0m \u001b[1;33m\u001b[0m\u001b[0m\n\u001b[0;32m    600\u001b[0m     \u001b[1;32mdef\u001b[0m \u001b[0mfind_elements_by_css_selector\u001b[0m\u001b[1;33m(\u001b[0m\u001b[0mself\u001b[0m\u001b[1;33m,\u001b[0m \u001b[0mcss_selector\u001b[0m\u001b[1;33m)\u001b[0m\u001b[1;33m:\u001b[0m\u001b[1;33m\u001b[0m\u001b[1;33m\u001b[0m\u001b[0m\n",
      "\u001b[1;32mD:\\Anaconda3\\lib\\site-packages\\selenium\\webdriver\\remote\\webdriver.py\u001b[0m in \u001b[0;36mfind_element\u001b[1;34m(self, by, value)\u001b[0m\n\u001b[0;32m    976\u001b[0m         return self.execute(Command.FIND_ELEMENT, {\n\u001b[0;32m    977\u001b[0m             \u001b[1;34m'using'\u001b[0m\u001b[1;33m:\u001b[0m \u001b[0mby\u001b[0m\u001b[1;33m,\u001b[0m\u001b[1;33m\u001b[0m\u001b[1;33m\u001b[0m\u001b[0m\n\u001b[1;32m--> 978\u001b[1;33m             'value': value})['value']\n\u001b[0m\u001b[0;32m    979\u001b[0m \u001b[1;33m\u001b[0m\u001b[0m\n\u001b[0;32m    980\u001b[0m     \u001b[1;32mdef\u001b[0m \u001b[0mfind_elements\u001b[0m\u001b[1;33m(\u001b[0m\u001b[0mself\u001b[0m\u001b[1;33m,\u001b[0m \u001b[0mby\u001b[0m\u001b[1;33m=\u001b[0m\u001b[0mBy\u001b[0m\u001b[1;33m.\u001b[0m\u001b[0mID\u001b[0m\u001b[1;33m,\u001b[0m \u001b[0mvalue\u001b[0m\u001b[1;33m=\u001b[0m\u001b[1;32mNone\u001b[0m\u001b[1;33m)\u001b[0m\u001b[1;33m:\u001b[0m\u001b[1;33m\u001b[0m\u001b[1;33m\u001b[0m\u001b[0m\n",
      "\u001b[1;32mD:\\Anaconda3\\lib\\site-packages\\selenium\\webdriver\\remote\\webdriver.py\u001b[0m in \u001b[0;36mexecute\u001b[1;34m(self, driver_command, params)\u001b[0m\n\u001b[0;32m    319\u001b[0m         \u001b[0mresponse\u001b[0m \u001b[1;33m=\u001b[0m \u001b[0mself\u001b[0m\u001b[1;33m.\u001b[0m\u001b[0mcommand_executor\u001b[0m\u001b[1;33m.\u001b[0m\u001b[0mexecute\u001b[0m\u001b[1;33m(\u001b[0m\u001b[0mdriver_command\u001b[0m\u001b[1;33m,\u001b[0m \u001b[0mparams\u001b[0m\u001b[1;33m)\u001b[0m\u001b[1;33m\u001b[0m\u001b[1;33m\u001b[0m\u001b[0m\n\u001b[0;32m    320\u001b[0m         \u001b[1;32mif\u001b[0m \u001b[0mresponse\u001b[0m\u001b[1;33m:\u001b[0m\u001b[1;33m\u001b[0m\u001b[1;33m\u001b[0m\u001b[0m\n\u001b[1;32m--> 321\u001b[1;33m             \u001b[0mself\u001b[0m\u001b[1;33m.\u001b[0m\u001b[0merror_handler\u001b[0m\u001b[1;33m.\u001b[0m\u001b[0mcheck_response\u001b[0m\u001b[1;33m(\u001b[0m\u001b[0mresponse\u001b[0m\u001b[1;33m)\u001b[0m\u001b[1;33m\u001b[0m\u001b[1;33m\u001b[0m\u001b[0m\n\u001b[0m\u001b[0;32m    322\u001b[0m             response['value'] = self._unwrap_value(\n\u001b[0;32m    323\u001b[0m                 response.get('value', None))\n",
      "\u001b[1;32mD:\\Anaconda3\\lib\\site-packages\\selenium\\webdriver\\remote\\errorhandler.py\u001b[0m in \u001b[0;36mcheck_response\u001b[1;34m(self, response)\u001b[0m\n\u001b[0;32m    240\u001b[0m                 \u001b[0malert_text\u001b[0m \u001b[1;33m=\u001b[0m \u001b[0mvalue\u001b[0m\u001b[1;33m[\u001b[0m\u001b[1;34m'alert'\u001b[0m\u001b[1;33m]\u001b[0m\u001b[1;33m.\u001b[0m\u001b[0mget\u001b[0m\u001b[1;33m(\u001b[0m\u001b[1;34m'text'\u001b[0m\u001b[1;33m)\u001b[0m\u001b[1;33m\u001b[0m\u001b[1;33m\u001b[0m\u001b[0m\n\u001b[0;32m    241\u001b[0m             \u001b[1;32mraise\u001b[0m \u001b[0mexception_class\u001b[0m\u001b[1;33m(\u001b[0m\u001b[0mmessage\u001b[0m\u001b[1;33m,\u001b[0m \u001b[0mscreen\u001b[0m\u001b[1;33m,\u001b[0m \u001b[0mstacktrace\u001b[0m\u001b[1;33m,\u001b[0m \u001b[0malert_text\u001b[0m\u001b[1;33m)\u001b[0m\u001b[1;33m\u001b[0m\u001b[1;33m\u001b[0m\u001b[0m\n\u001b[1;32m--> 242\u001b[1;33m         \u001b[1;32mraise\u001b[0m \u001b[0mexception_class\u001b[0m\u001b[1;33m(\u001b[0m\u001b[0mmessage\u001b[0m\u001b[1;33m,\u001b[0m \u001b[0mscreen\u001b[0m\u001b[1;33m,\u001b[0m \u001b[0mstacktrace\u001b[0m\u001b[1;33m)\u001b[0m\u001b[1;33m\u001b[0m\u001b[1;33m\u001b[0m\u001b[0m\n\u001b[0m\u001b[0;32m    243\u001b[0m \u001b[1;33m\u001b[0m\u001b[0m\n\u001b[0;32m    244\u001b[0m     \u001b[1;32mdef\u001b[0m \u001b[0m_value_or_default\u001b[0m\u001b[1;33m(\u001b[0m\u001b[0mself\u001b[0m\u001b[1;33m,\u001b[0m \u001b[0mobj\u001b[0m\u001b[1;33m,\u001b[0m \u001b[0mkey\u001b[0m\u001b[1;33m,\u001b[0m \u001b[0mdefault\u001b[0m\u001b[1;33m)\u001b[0m\u001b[1;33m:\u001b[0m\u001b[1;33m\u001b[0m\u001b[1;33m\u001b[0m\u001b[0m\n",
      "\u001b[1;31mNoSuchElementException\u001b[0m: Message: no such element: Unable to locate element: {\"method\":\"css selector\",\"selector\":\"#tab1 > div.search_head.MgT10 > img:nth-child(10)\"}\n  (Session info: chrome=79.0.3945.130)\n"
     ]
    }
   ],
   "source": [
    "main_one('Gwangjin_Gwangnaruro','2016')"
   ]
  },
  {
   "cell_type": "code",
   "execution_count": null,
   "metadata": {},
   "outputs": [],
   "source": [
    "main_one('Gwangjin_Gwangnaruro','2017')"
   ]
  },
  {
   "cell_type": "code",
   "execution_count": null,
   "metadata": {},
   "outputs": [],
   "source": [
    "main_one('Gwangjin_Gwangnaruro','2018')"
   ]
  },
  {
   "cell_type": "code",
   "execution_count": null,
   "metadata": {},
   "outputs": [],
   "source": [
    "main_one('Gwangjin_Gwangnaruro','2019')"
   ]
  },
  {
   "cell_type": "code",
   "execution_count": null,
   "metadata": {},
   "outputs": [],
   "source": [
    "main_one('Gwangjin_Gwangnaruro','2020')"
   ]
  },
  {
   "cell_type": "code",
   "execution_count": null,
   "metadata": {},
   "outputs": [],
   "source": [
    "print('complete')"
   ]
  },
  {
   "cell_type": "code",
   "execution_count": null,
   "metadata": {},
   "outputs": [],
   "source": []
  }
 ],
 "metadata": {
  "kernelspec": {
   "display_name": "Python 3",
   "language": "python",
   "name": "python3"
  },
  "language_info": {
   "codemirror_mode": {
    "name": "ipython",
    "version": 3
   },
   "file_extension": ".py",
   "mimetype": "text/x-python",
   "name": "python",
   "nbconvert_exporter": "python",
   "pygments_lexer": "ipython3",
   "version": "3.7.3"
  }
 },
 "nbformat": 4,
 "nbformat_minor": 2
}
