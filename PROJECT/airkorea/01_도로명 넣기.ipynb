{
 "cells": [
  {
   "cell_type": "code",
   "execution_count": 1,
   "metadata": {},
   "outputs": [],
   "source": [
    "from selenium import webdriver\n",
    "import time\n",
    "import pandas as pd"
   ]
  },
  {
   "cell_type": "code",
   "execution_count": 2,
   "metadata": {},
   "outputs": [],
   "source": [
    "driver = webdriver.Chrome()"
   ]
  },
  {
   "cell_type": "code",
   "execution_count": 3,
   "metadata": {},
   "outputs": [],
   "source": [
    "driver.get('https://www.airkorea.or.kr/web/realSearch')\n",
    "# window_before = driver.window_handles[0]"
   ]
  },
  {
   "cell_type": "code",
   "execution_count": 13,
   "metadata": {},
   "outputs": [],
   "source": [
    "# input_btn = driver.find_element_by_css_selector('#s_condition_input3')\n",
    "# input_btn.click()\n",
    "# input_btn.setAttribute('value', 'aaaaa')\n",
    "driver.execute_script(\"document.getElementById('s_condition_input3').value = '안녕하세요'\")\n",
    "\n",
    "\n",
    "# window_after = driver.window_handles[1]\n",
    "# driver.switch_to.window(window_after)"
   ]
  },
  {
   "cell_type": "code",
   "execution_count": 5,
   "metadata": {},
   "outputs": [],
   "source": [
    "# input_btn2 = driver.find_element_by_css_selector('#keyword')\n",
    "# input_btn2.send_keys('테헤란로')\n",
    "\n",
    "# find_btn = driver.find_element_by_css_selector('#serarchContentBox > fieldset > span > input[type=button]:nth-child(2)')\n",
    "# find_btn.click()"
   ]
  },
  {
   "cell_type": "code",
   "execution_count": 6,
   "metadata": {},
   "outputs": [],
   "source": [
    "# driver.switch_to.window(window_before)\n",
    "# input_btn = driver.find_element_by_css_selector('#s_condition_input3')\n"
   ]
  },
  {
   "cell_type": "code",
   "execution_count": null,
   "metadata": {},
   "outputs": [],
   "source": []
  },
  {
   "cell_type": "code",
   "execution_count": null,
   "metadata": {},
   "outputs": [],
   "source": []
  }
 ],
 "metadata": {
  "kernelspec": {
   "display_name": "Python 3",
   "language": "python",
   "name": "python3"
  },
  "language_info": {
   "codemirror_mode": {
    "name": "ipython",
    "version": 3
   },
   "file_extension": ".py",
   "mimetype": "text/x-python",
   "name": "python",
   "nbconvert_exporter": "python",
   "pygments_lexer": "ipython3",
   "version": "3.7.3"
  }
 },
 "nbformat": 4,
 "nbformat_minor": 2
}
