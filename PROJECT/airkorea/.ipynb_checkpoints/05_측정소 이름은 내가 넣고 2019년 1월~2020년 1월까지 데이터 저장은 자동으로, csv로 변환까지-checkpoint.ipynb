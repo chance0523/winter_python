{
 "cells": [
  {
   "cell_type": "code",
   "execution_count": 1,
   "metadata": {},
   "outputs": [],
   "source": [
    "from selenium import webdriver\n",
    "import time\n",
    "import pandas as pd\n",
    "from selenium.webdriver.support.ui import Select\n",
    "import os"
   ]
  },
  {
   "cell_type": "code",
   "execution_count": 2,
   "metadata": {},
   "outputs": [],
   "source": [
    "driver = webdriver.Chrome()"
   ]
  },
  {
   "cell_type": "code",
   "execution_count": 3,
   "metadata": {},
   "outputs": [],
   "source": [
    "# airkorea 미세먼지 접속\n",
    "driver.get('https://www.airkorea.or.kr/web/realSearch')"
   ]
  },
  {
   "cell_type": "markdown",
   "metadata": {},
   "source": [
    "측정소 설정은 일단 수동으로 해야한다."
   ]
  },
  {
   "cell_type": "code",
   "execution_count": 18,
   "metadata": {},
   "outputs": [],
   "source": [
    "def get_start_date_css():\n",
    "    child_num = 1\n",
    "    while True:\n",
    "        calender = driver.find_element_by_css_selector('#ui-datepicker-div')\n",
    "        cur_date = calender.find_element_by_css_selector(f'#ui-datepicker-div > table > tbody > tr:nth-child(1) > td:nth-child({child_num})')\n",
    "        if cur_date.text != ' ':\n",
    "            return cur_date\n",
    "        else:\n",
    "            child_num = child_num + 1"
   ]
  },
  {
   "cell_type": "code",
   "execution_count": 19,
   "metadata": {},
   "outputs": [],
   "source": [
    "def get_last_date_css():\n",
    "    child_num = 7\n",
    "    while True:\n",
    "        calender = driver.find_element_by_css_selector('#ui-datepicker-div')\n",
    "        cur_date = calender.find_element_by_css_selector(f'#ui-datepicker-div > table > tbody > tr:nth-last-child(1) > td:nth-child({child_num})')\n",
    "        if cur_date.text != ' ':\n",
    "            return cur_date\n",
    "        else:\n",
    "            child_num = child_num - 1"
   ]
  },
  {
   "cell_type": "code",
   "execution_count": 46,
   "metadata": {},
   "outputs": [],
   "source": [
    "# 측정 시작 날짜 함수\n",
    "def from_date(year, month):\n",
    "    # 왼쪽 달력 (시작날짜) 클릭\n",
    "    date_btn1 = driver.find_element_by_css_selector('#tab1 > div.search_head.MgT10 > img:nth-child(10)')\n",
    "    date_btn1.click()\n",
    "\n",
    "    calender1 = driver.find_element_by_css_selector('#ui-datepicker-div')\n",
    "\n",
    "    # 연도 설정\n",
    "    year1_dropdown = calender1.find_element_by_class_name('ui-datepicker-year')\n",
    "    year1 = Select(year1_dropdown)\n",
    "    year1.select_by_value(f'{year}')\n",
    "\n",
    "    # 달 설정\n",
    "    month_dropdown1 = calender1.find_element_by_class_name('ui-datepicker-month')\n",
    "    month1 = Select(month_dropdown1)\n",
    "    month = month - 1 # 0이 1월이기때문에 하나씩 빼줌\n",
    "    month = str(month)\n",
    "    month1.select_by_value(f'{month}') # 0이 1월\n",
    "\n",
    "    # 일 설정 (1일부터 시작)\n",
    "    date1 = get_start_date_css()\n",
    "    date1.click()\n",
    "\n",
    "    # 시간 설정 (1로 설정)\n",
    "    time1_dropdown = driver.find_element_by_css_selector('#from_date_hour')\n",
    "    time1 = Select(time1_dropdown)\n",
    "    time1.select_by_value('00') # 0이 1시"
   ]
  },
  {
   "cell_type": "code",
   "execution_count": 47,
   "metadata": {},
   "outputs": [],
   "source": [
    "# 측정 종료 날짜 함수\n",
    "def to_date(year, month):\n",
    "    # 오른쪽 달력 (종료날짜) 클릭\n",
    "    date_btn2 = driver.find_element_by_css_selector('#tab1 > div.search_head.MgT10 > img:nth-child(14)')\n",
    "    date_btn2.click()\n",
    "\n",
    "    calender2 = driver.find_element_by_css_selector('#ui-datepicker-div')\n",
    "\n",
    "    # 연도 설정\n",
    "    year2_dropdown = calender2.find_element_by_class_name('ui-datepicker-year')\n",
    "    year2 = Select(year2_dropdown)\n",
    "    year2.select_by_value(f'{year}')\n",
    "\n",
    "    # 달 설정\n",
    "    month2_dropdown = calender2.find_element_by_class_name('ui-datepicker-month')\n",
    "    month2 = Select(month2_dropdown)\n",
    "    month = month - 1 # 0이 1월이기때문에 하나씩 빼줌\n",
    "    month = str(month)\n",
    "    month2.select_by_value(f'{month}') # 0이 1월\n",
    "\n",
    "    # 일 설정\n",
    "    date2 = get_last_date_css()\n",
    "    date2.click()\n",
    "\n",
    "    # 시간 설정 (1로 설정)\n",
    "    time2_dropdown = driver.find_element_by_css_selector('#to_date_hour')\n",
    "    time2 = Select(time2_dropdown)\n",
    "    time2.select_by_value('23') # 23이 24시"
   ]
  },
  {
   "cell_type": "code",
   "execution_count": 48,
   "metadata": {},
   "outputs": [],
   "source": [
    "def get_xls():\n",
    "    # 엑셀 저장\n",
    "    get_xls = driver.find_element_by_css_selector('#tab1 > div.search_head.MgT10 > a.xls')\n",
    "    get_xls.click()"
   ]
  },
  {
   "cell_type": "code",
   "execution_count": 49,
   "metadata": {},
   "outputs": [],
   "source": [
    "def get_all_year_xls():\n",
    "    yearList = ['2016','2017','2018','2019','2020']\n",
    "    for year in yearList:\n",
    "        if year != '2020':\n",
    "            for month in range(1,13):\n",
    "                from_date(year, month)\n",
    "                to_date(year, month)\n",
    "                get_xls()\n",
    "        elif year == '2020':\n",
    "            from_date(year, 1)\n",
    "            to_date(year, 1)\n",
    "            get_xls()"
   ]
  },
  {
   "cell_type": "code",
   "execution_count": 50,
   "metadata": {},
   "outputs": [],
   "source": [
    "def get_specific_year_xls(year):\n",
    "    if year != '2020':\n",
    "        for month in range(1,13):\n",
    "            from_date(year, month)\n",
    "            time.sleep(1)\n",
    "            to_date(year, month)\n",
    "            time.sleep(1)\n",
    "            get_xls()\n",
    "    elif year == '2020':\n",
    "        from_date(year, 1)\n",
    "        time.sleep(1)\n",
    "        to_date(year, 1)\n",
    "        time.sleep(1)\n",
    "        get_xls()\n",
    "    time.sleep(1)"
   ]
  },
  {
   "cell_type": "code",
   "execution_count": 51,
   "metadata": {},
   "outputs": [],
   "source": [
    "# 2019년 1월\n",
    "# from_date('2019', 1)\n",
    "# to_date('2019', 1)"
   ]
  },
  {
   "cell_type": "code",
   "execution_count": 52,
   "metadata": {},
   "outputs": [],
   "source": [
    "def convert_to_csv(year, station_name):\n",
    "    if not os.path.exists(f'{station_name}'):\n",
    "        os.makedirs(f'{station_name}')\n",
    "    os.makedirs(f'{station_name}/{year}')\n",
    "    option1 = [_ for _ in range(13)]\n",
    "    if year != '2020':\n",
    "        for month in range(1,13):\n",
    "            xls = pd.read_excel(f'C:/Users/user/Downloads/last_amb_hour_time ({month}).xls',names=option1)\n",
    "            result_list = []\n",
    "            for i in range(len(xls)-1, 4, -1):\n",
    "                result_list.append([xls[0][i], xls[2][i], xls[4][i]])\n",
    "            option2 = ['time','pm10','pm2.5']\n",
    "            df1 = pd.DataFrame(result_list, columns=option2)\n",
    "            df1.to_csv(f'{station_name}/{station_name}_{year}_{month}.csv',index=False,encoding='utf-8-sig')\n",
    "    else:\n",
    "        xls = pd.read_excel(f'C:/Users/user/Downloads/last_amb_hour_time (1).xls',names=option1)\n",
    "        result_list = []\n",
    "        for i in range(len(xls)-1, 4, -1):\n",
    "            result_list.append([xls[0][i], xls[2][i], xls[4][i]])\n",
    "            option2 = ['time','pm10','pm2.5']\n",
    "            df1 = pd.DataFrame(result_list, columns=option2)\n",
    "            df1.to_csv(f'{station_name}/{year}/{station_name}_2020_1.csv',index=False,encoding='utf-8-sig')"
   ]
  },
  {
   "cell_type": "code",
   "execution_count": 53,
   "metadata": {},
   "outputs": [],
   "source": [
    "# get_all_year_xls()\n",
    "# get_specific_year_xls('2019')\n",
    "# convert_to_csv('2019')"
   ]
  },
  {
   "cell_type": "code",
   "execution_count": 54,
   "metadata": {},
   "outputs": [],
   "source": [
    "def main(station_name):\n",
    "    yearList = ['2016','2017','2018','2019','2020']\n",
    "    for year in yearList:\n",
    "        if year != '2020':\n",
    "            get_specific_year_xls(year)\n",
    "            convert_to_csv(year,station_name)\n",
    "            for month in range(1,13):\n",
    "                os.remove(f\"C:/Users/user/Downloads/last_amb_hour_time ({month}).xls\")\n",
    "        else:\n",
    "            get_specific_year_xls(year)\n",
    "            convert_to_csv(year, station_name)\n",
    "            os.remove(f\"C:/Users/user/Downloads/last_amb_hour_time (1).xls\")"
   ]
  },
  {
   "cell_type": "code",
   "execution_count": null,
   "metadata": {},
   "outputs": [],
   "source": [
    "main('Gangnam_Hakdongro')"
   ]
  },
  {
   "cell_type": "code",
   "execution_count": null,
   "metadata": {},
   "outputs": [],
   "source": []
  },
  {
   "cell_type": "code",
   "execution_count": null,
   "metadata": {},
   "outputs": [],
   "source": []
  }
 ],
 "metadata": {
  "kernelspec": {
   "display_name": "Python 3",
   "language": "python",
   "name": "python3"
  },
  "language_info": {
   "codemirror_mode": {
    "name": "ipython",
    "version": 3
   },
   "file_extension": ".py",
   "mimetype": "text/x-python",
   "name": "python",
   "nbconvert_exporter": "python",
   "pygments_lexer": "ipython3",
   "version": "3.7.3"
  }
 },
 "nbformat": 4,
 "nbformat_minor": 2
}
