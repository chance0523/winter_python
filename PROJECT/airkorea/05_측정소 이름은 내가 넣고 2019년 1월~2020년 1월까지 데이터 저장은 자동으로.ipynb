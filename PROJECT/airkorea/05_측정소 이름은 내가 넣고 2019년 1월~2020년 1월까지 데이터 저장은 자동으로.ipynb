{
 "cells": [
  {
   "cell_type": "code",
   "execution_count": 1,
   "metadata": {},
   "outputs": [],
   "source": [
    "from selenium import webdriver\n",
    "import time\n",
    "import pandas as pd\n",
    "from selenium.webdriver.support.ui import Select"
   ]
  },
  {
   "cell_type": "code",
   "execution_count": 2,
   "metadata": {},
   "outputs": [],
   "source": [
    "driver = webdriver.Chrome()"
   ]
  },
  {
   "cell_type": "code",
   "execution_count": 3,
   "metadata": {},
   "outputs": [],
   "source": [
    "# airkorea 미세먼지 접속\n",
    "driver.get('https://www.airkorea.or.kr/web/realSearch')"
   ]
  },
  {
   "cell_type": "markdown",
   "metadata": {},
   "source": [
    "측정소 설정은 일단 수동으로 해야한다."
   ]
  },
  {
   "cell_type": "code",
   "execution_count": 35,
   "metadata": {},
   "outputs": [],
   "source": [
    "# -------------------- #\n",
    "#  측정 시작 시간 설정  #\n",
    "# -------------------- #\n",
    "\n",
    "# 왼쪽 달력 (시작날짜) 클릭\n",
    "date_btn1 = driver.find_element_by_css_selector('#tab1 > div.search_head.MgT10 > img:nth-child(10)')\n",
    "date_btn1.click()\n",
    "\n",
    "calender1 = driver.find_element_by_css_selector('#ui-datepicker-div')\n",
    "\n",
    "# 연도 설정\n",
    "year1_dropdown = calender1.find_element_by_class_name('ui-datepicker-year')\n",
    "year1 = Select(year1_dropdown)\n",
    "year1.select_by_value('2019')\n",
    "\n",
    "# 달 설정\n",
    "month_dropdown1 = calender1.find_element_by_class_name('ui-datepicker-month')\n",
    "month1 = Select(month_dropdown1)\n",
    "month1.select_by_value('0') # 0이 1월\n",
    "\n",
    "# 일 설정\n",
    "date1 = calender1.find_element_by_css_selector('#ui-datepicker-div > table > tbody > tr:nth-child(1) > td:nth-child(3)')\n",
    "date1.click()\n",
    "\n",
    "# 시간 설정 (1로 설정)\n",
    "time1_dropdown = driver.find_element_by_css_selector('#from_date_hour')\n",
    "time1 = Select(time1_dropdown)\n",
    "time1.select_by_value('00') # 0이 1시"
   ]
  },
  {
   "cell_type": "code",
   "execution_count": 36,
   "metadata": {},
   "outputs": [],
   "source": [
    "# -------------------- #\n",
    "#  측정 종료 시간 설정  #\n",
    "# -------------------- #\n",
    "\n",
    "date_btn2 = driver.find_element_by_css_selector('#tab1 > div.search_head.MgT10 > img:nth-child(14)')\n",
    "date_btn2.click()\n",
    "\n",
    "calender2 = driver.find_element_by_css_selector('#ui-datepicker-div')\n",
    "\n",
    "# 연도 설정\n",
    "year2_dropdown = calender2.find_element_by_class_name('ui-datepicker-year')\n",
    "year2 = Select(year2_dropdown)\n",
    "year2.select_by_value('2019')\n",
    "\n",
    "# 달 설정\n",
    "month2_dropdown = calender2.find_element_by_class_name('ui-datepicker-month')\n",
    "month2 = Select(month2_dropdown)\n",
    "month2.select_by_value('0') # 0이 1월\n",
    "\n",
    "# 일 설정\n",
    "date2 = calender2.find_element_by_css_selector('#ui-datepicker-div > table > tbody > tr:nth-last-child(1) > td:nth-child(5)')\n",
    "date2.click()\n",
    "\n",
    "# 시간 설정 (1로 설정)\n",
    "time2_dropdown = driver.find_element_by_css_selector('#to_date_hour')\n",
    "time2 = Select(time2_dropdown)\n",
    "time2.select_by_value('23') # 23이 24시"
   ]
  },
  {
   "cell_type": "code",
   "execution_count": 32,
   "metadata": {},
   "outputs": [],
   "source": [
    "# 엑셀 저장\n",
    "get_xls = driver.find_element_by_css_selector('#tab1 > div.search_head.MgT10 > a.xls')\n",
    "get_xls.click()"
   ]
  },
  {
   "cell_type": "code",
   "execution_count": 33,
   "metadata": {},
   "outputs": [],
   "source": [
    "def from_date(year, month, date):\n",
    "    # 왼쪽 달력 (시작날짜) 클릭\n",
    "    date_btn1 = driver.find_element_by_css_selector('#tab1 > div.search_head.MgT10 > img:nth-child(10)')\n",
    "    date_btn1.click()\n",
    "\n",
    "    calender1 = driver.find_element_by_css_selector('#ui-datepicker-div')\n",
    "\n",
    "    # 연도 설정\n",
    "    year1_dropdown = calender1.find_element_by_class_name('ui-datepicker-year')\n",
    "    year1 = Select(year1_dropdown)\n",
    "    year1.select_by_value(f'\"{year}\"')\n",
    "\n",
    "    # 달 설정\n",
    "    month_dropdown1 = calender1.find_element_by_class_name('ui-datepicker-month')\n",
    "    month1 = Select(month_dropdown1)\n",
    "    month = month - 1 # 0이 1월이기때문에 하나씩 빼줌\n",
    "    month1.select_by_value(f'\"{month}\"') # 0이 1월\n",
    "\n",
    "    # 일 설정 (1일부터 시작)\n",
    "    date1 = calender1.find_element_by_css_selector('#ui-datepicker-div > table > tbody > tr:nth-child(1) > td:nth-child(3)')\n",
    "    date1.click()\n",
    "\n",
    "    # 시간 설정 (1로 설정)\n",
    "    time1_dropdown = driver.find_element_by_css_selector('#from_date_hour')\n",
    "    time1 = Select(time1_dropdown)\n",
    "    time1.select_by_value('00') # 0이 1시"
   ]
  },
  {
   "cell_type": "code",
   "execution_count": 34,
   "metadata": {},
   "outputs": [],
   "source": [
    "def to_date(year, month, date):\n",
    "    # 오른쪽 달력 (종료날짜) 클릭\n",
    "    date_btn2 = driver.find_element_by_css_selector('#tab1 > div.search_head.MgT10 > img:nth-child(14)')\n",
    "    date_btn2.click()\n",
    "\n",
    "    calender2 = driver.find_element_by_css_selector('#ui-datepicker-div')\n",
    "\n",
    "    # 연도 설정\n",
    "    year2_dropdown = calender2.find_element_by_class_name('ui-datepicker-year')\n",
    "    year2 = Select(year2_dropdown)\n",
    "    year2.select_by_value(f'\"{year}\"')\n",
    "\n",
    "    # 달 설정\n",
    "    month2_dropdown = calender2.find_element_by_class_name('ui-datepicker-month')\n",
    "    month2 = Select(month2_dropdown)\n",
    "    month = month - 1 # 0이 1월이기때문에 하나씩 빼줌\n",
    "    month2.select_by_value(f'\"{month}\"') # 0이 1월\n",
    "\n",
    "    # 일 설정\n",
    "    date2 = calender2.find_element_by_css_selector('#ui-datepicker-div > table > tbody > tr:nth-child(5) > td:nth-child(5)')\n",
    "    date2.click()\n",
    "\n",
    "    # 시간 설정 (1로 설정)\n",
    "    time2_dropdown = driver.find_element_by_css_selector('#to_date_hour')\n",
    "    time2 = Select(time2_dropdown)\n",
    "    time2.select_by_value('23') # 23이 24시"
   ]
  },
  {
   "cell_type": "code",
   "execution_count": null,
   "metadata": {},
   "outputs": [],
   "source": [
    "def make_date_css(year, month):\n",
    "    # 한 달의 마지막 날을 고르기\n",
    "    # 윤년 고려\n",
    "    date_css_dict = {\n",
    "        1 : '#ui-datepicker-div > table > tbody > tr:nth-last-child(1) > td:nth-child(5)',\n",
    "        2 : '#ui-datepicker-div > table > tbody > tr:nth-last-child(1) > td:nth-child(5)',\n",
    "        3 : '#ui-datepicker-div > table > tbody > tr:nth-last-child(1) > td:nth-child(5)',\n",
    "        4 : '#ui-datepicker-div > table > tbody > tr:nth-last-child(1) > td:nth-child(1)',\n",
    "        5 : '',\n",
    "        6 : '',\n",
    "        7 : '',\n",
    "        8 : '',\n",
    "        9 : '',\n",
    "        10 : '',\n",
    "        11 : '',\n",
    "        12 : ''\n",
    "    }"
   ]
  }
 ],
 "metadata": {
  "kernelspec": {
   "display_name": "Python 3",
   "language": "python",
   "name": "python3"
  },
  "language_info": {
   "codemirror_mode": {
    "name": "ipython",
    "version": 3
   },
   "file_extension": ".py",
   "mimetype": "text/x-python",
   "name": "python",
   "nbconvert_exporter": "python",
   "pygments_lexer": "ipython3",
   "version": "3.7.3"
  }
 },
 "nbformat": 4,
 "nbformat_minor": 2
}
