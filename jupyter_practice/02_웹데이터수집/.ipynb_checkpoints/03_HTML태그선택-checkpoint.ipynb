{
 "cells": [
  {
   "cell_type": "code",
   "execution_count": 1,
   "metadata": {},
   "outputs": [],
   "source": [
    "import bs4"
   ]
  },
  {
   "cell_type": "markdown",
   "metadata": {},
   "source": [
    "### find_all\n",
    "조건에 맞는 태그들을 모두 가져온다(리스트로 반환)\n",
    "\n",
    "### find\n",
    "조건에 맞는 태그 하나를 가져온다. 만약 여러개라면 가장 위에 있는 태그를 가져온다.\n",
    "\n",
    "### select\n",
    "css 셀렉터 문법을 이용해 조건에 맞는 태그를 모두 가져온다.\n",
    "\n",
    "### select_one\n",
    "css 셀렉터 문법을 이용해 조건에 맞는 태그 하나를 가져온다. 만약 여러개라면 가장 위에 있는 태그를 가져온다.\n"
   ]
  },
  {
   "cell_type": "code",
   "execution_count": 2,
   "metadata": {},
   "outputs": [],
   "source": [
    "html =  '''\n",
    "        <html>\n",
    "            <body>\n",
    "                <p class='a1'>p태그1</p>\n",
    "                <p class='a2' id='k1'>p태그2</p>\n",
    "                <p class='a1 a2'>p태그3</p>\n",
    "                <ul>\n",
    "                    <li class='a1'>li태그1</li>\n",
    "                    <li class='a2'>li태그2</li>\n",
    "                    <li class='a1 a2'>li태그3</li>\n",
    "                </ul>\n",
    "            </body>\n",
    "        </html>\n",
    "        '''"
   ]
  },
  {
   "cell_type": "code",
   "execution_count": 3,
   "metadata": {},
   "outputs": [],
   "source": [
    "soup=bs4.BeautifulSoup(html, 'lxml')"
   ]
  },
  {
   "cell_type": "code",
   "execution_count": 4,
   "metadata": {},
   "outputs": [
    {
     "name": "stdout",
     "output_type": "stream",
     "text": [
      "[<p class=\"a1\">p태그1</p>, <p class=\"a2\" id=\"k1\">p태그2</p>, <p class=\"a1 a2\">p태그3</p>]\n",
      "[<li class=\"a1\">li태그1</li>, <li class=\"a2\">li태그2</li>, <li class=\"a1 a2\">li태그3</li>]\n"
     ]
    }
   ],
   "source": [
    "# 문서 내에 있는 모든 p 태그들을 가져온다\n",
    "p_list=soup.find_all('p')\n",
    "print(p_list)\n",
    "\n",
    "# 문서 내의 모든 li 태그들을 가져온다.\n",
    "li_list=soup.find_all('li')\n",
    "print(li_list)"
   ]
  },
  {
   "cell_type": "code",
   "execution_count": 5,
   "metadata": {},
   "outputs": [
    {
     "name": "stdout",
     "output_type": "stream",
     "text": [
      "[<p class=\"a1\">p태그1</p>, <p class=\"a2\" id=\"k1\">p태그2</p>, <p class=\"a1 a2\">p태그3</p>]\n",
      "[<li class=\"a1\">li태그1</li>, <li class=\"a2\">li태그2</li>, <li class=\"a1 a2\">li태그3</li>]\n"
     ]
    }
   ],
   "source": [
    "# 셀렉터 사용. 태그 이름은 문자열로 적어준다.\n",
    "p_list=soup.select('p')\n",
    "print(p_list)\n",
    "\n",
    "li_list=soup.select('li')\n",
    "print(li_list)"
   ]
  },
  {
   "cell_type": "code",
   "execution_count": 6,
   "metadata": {},
   "outputs": [
    {
     "name": "stdout",
     "output_type": "stream",
     "text": [
      "[<p class=\"a1\">p태그1</p>, <p class=\"a1 a2\">p태그3</p>, <li class=\"a1\">li태그1</li>, <li class=\"a1 a2\">li태그3</li>]\n",
      "[<p class=\"a2\" id=\"k1\">p태그2</p>, <p class=\"a1 a2\">p태그3</p>, <li class=\"a2\">li태그2</li>, <li class=\"a1 a2\">li태그3</li>]\n"
     ]
    }
   ],
   "source": [
    "# 문서 내에 class가 a1인 태그들을 모두 가져온다.\n",
    "a1_list=soup.find_all(class_='a1')\n",
    "print(a1_list)\n",
    "\n",
    "# 문서 내에 class가 a2인 태그들을 모두 가져온다.\n",
    "a2_list=soup.find_all(class_='a2')\n",
    "print(a2_list)"
   ]
  },
  {
   "cell_type": "code",
   "execution_count": 7,
   "metadata": {},
   "outputs": [
    {
     "name": "stdout",
     "output_type": "stream",
     "text": [
      "[<p class=\"a1\">p태그1</p>, <p class=\"a1 a2\">p태그3</p>, <li class=\"a1\">li태그1</li>, <li class=\"a1 a2\">li태그3</li>]\n",
      "[<p class=\"a2\" id=\"k1\">p태그2</p>, <p class=\"a1 a2\">p태그3</p>, <li class=\"a2\">li태그2</li>, <li class=\"a1 a2\">li태그3</li>]\n"
     ]
    }
   ],
   "source": [
    "# 셀렉터를 활용해 class 속성 이름으로 가져온다.\n",
    "a1_list=soup.select('.a1')\n",
    "print(a1_list)\n",
    "\n",
    "a2_list=soup.select('.a2')\n",
    "print(a2_list)"
   ]
  },
  {
   "cell_type": "code",
   "execution_count": 8,
   "metadata": {},
   "outputs": [
    {
     "name": "stdout",
     "output_type": "stream",
     "text": [
      "[<p class=\"a2\" id=\"k1\">p태그2</p>]\n"
     ]
    }
   ],
   "source": [
    "# id가 k1인 태그를 가져온다.\n",
    "k1=soup.find_all(id='k1')\n",
    "print(k1)"
   ]
  },
  {
   "cell_type": "code",
   "execution_count": 9,
   "metadata": {},
   "outputs": [
    {
     "name": "stdout",
     "output_type": "stream",
     "text": [
      "[<p class=\"a2\" id=\"k1\">p태그2</p>]\n"
     ]
    }
   ],
   "source": [
    "# 셀렉터를 활용해 id 값을 가지고 가져온다.\n",
    "k1=soup.select('#k1')\n",
    "print(k1)"
   ]
  },
  {
   "cell_type": "code",
   "execution_count": 10,
   "metadata": {},
   "outputs": [
    {
     "name": "stdout",
     "output_type": "stream",
     "text": [
      "<p class=\"a1\">p태그1</p>\n",
      "<p class=\"a1\">p태그1</p>\n",
      "<p class=\"a2\" id=\"k1\">p태그2</p>\n"
     ]
    }
   ],
   "source": [
    "# 하나씩만 가져온다.\n",
    "p_tag=soup.find('p')\n",
    "a1_tag=soup.find(class_='a1')\n",
    "k1_tag=soup.find(id='k1')\n",
    "print(p_tag)\n",
    "print(a1_tag)\n",
    "print(k1_tag)"
   ]
  },
  {
   "cell_type": "code",
   "execution_count": 12,
   "metadata": {},
   "outputs": [
    {
     "name": "stdout",
     "output_type": "stream",
     "text": [
      "<p class=\"a1\">p태그1</p>\n",
      "<p class=\"a1\">p태그1</p>\n",
      "<p class=\"a2\" id=\"k1\">p태그2</p>\n"
     ]
    }
   ],
   "source": [
    "# 셀렉터를 활용해 하나씩만 가져온다.\n",
    "p_tag=soup.select_one('p')\n",
    "a1_tag=soup.select_one('.a1')\n",
    "k1_tag=soup.select_one('#k1')\n",
    "print(p_tag)\n",
    "print(a1_tag)\n",
    "print(k1_tag)"
   ]
  },
  {
   "cell_type": "code",
   "execution_count": 13,
   "metadata": {},
   "outputs": [],
   "source": [
    "html =  '''\n",
    "        <html>\n",
    "            <body>\n",
    "                <ul>\n",
    "                    <li>항목1</li>\n",
    "                    <li>항목2</li>\n",
    "                    <li>항목3</li>\n",
    "                </ul>\n",
    "                <ul>\n",
    "                    <li>항목4</li>\n",
    "                    <li>항목5</li>\n",
    "                    <li>항목6</li>\n",
    "                </ul>\n",
    "            </body>\n",
    "        </html>\n",
    "        '''"
   ]
  },
  {
   "cell_type": "code",
   "execution_count": 24,
   "metadata": {},
   "outputs": [
    {
     "name": "stdout",
     "output_type": "stream",
     "text": [
      "항목5\n"
     ]
    }
   ],
   "source": [
    "soup=bs4.BeautifulSoup(html,'lxml')\n",
    "# 문서 내의 모든 ul 태그를 가져온다.\n",
    "ul_list=soup.find_all('ul')\n",
    "# print(ul_list[1])\n",
    "# ul 태그 내의 li 태그들을 가져온다.\n",
    "li_list=ul_list[1].find_all('li')\n",
    "print(li_list[1].text)"
   ]
  },
  {
   "cell_type": "code",
   "execution_count": 27,
   "metadata": {},
   "outputs": [
    {
     "data": {
      "text/plain": [
       "'항목5'"
      ]
     },
     "execution_count": 27,
     "metadata": {},
     "output_type": "execute_result"
    }
   ],
   "source": [
    "# 셀렉터 이용. 선택자1선택자2 : 두 선택지를 모두 만족하는 태그가 선택\n",
    "# p.a2 : p 태그 중에 class가 a2인 태그\n",
    "\n",
    "# 선택자1 선택자2 : 선택자1 안에 있는 태그 중 선택자2에 해당하는 태그가 선택\n",
    "# p .a2 : p태그가 선택되고 그 안에 있는 태그들 중 class가 a2인 태그\n",
    "\n",
    "# 선택자1 > 선택자2 : 선택자1 안의 직계 하위 태그 중 선택자2에 해당하는 태그가 선택\n",
    "# p > .a2 : p태그가 선택되고 그 직계 하위의 태그 중 클래스가 a2인 태그가 선택\n",
    "\n",
    "soup.select_one('ul:nth-child(2) > li:nth-child(2)').text\n",
    "# nth-child는 인덱스 번호가 1부터 시작"
   ]
  },
  {
   "cell_type": "code",
   "execution_count": null,
   "metadata": {},
   "outputs": [],
   "source": []
  }
 ],
 "metadata": {
  "kernelspec": {
   "display_name": "Python 3",
   "language": "python",
   "name": "python3"
  },
  "language_info": {
   "codemirror_mode": {
    "name": "ipython",
    "version": 3
   },
   "file_extension": ".py",
   "mimetype": "text/x-python",
   "name": "python",
   "nbconvert_exporter": "python",
   "pygments_lexer": "ipython3",
   "version": "3.7.4"
  }
 },
 "nbformat": 4,
 "nbformat_minor": 2
}
