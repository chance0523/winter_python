{
 "cells": [
  {
   "cell_type": "code",
   "execution_count": 1,
   "metadata": {},
   "outputs": [],
   "source": [
    "from selenium import webdriver"
   ]
  },
  {
   "cell_type": "code",
   "execution_count": 2,
   "metadata": {},
   "outputs": [],
   "source": [
    "# 웹 드라이버 로딩\n",
    "driver = webdriver.Chrome()"
   ]
  },
  {
   "cell_type": "code",
   "execution_count": 3,
   "metadata": {},
   "outputs": [],
   "source": [
    "# 요청\n",
    "driver.get('https://movie.daum.net/premovie/released')"
   ]
  },
  {
   "cell_type": "code",
   "execution_count": 4,
   "metadata": {},
   "outputs": [],
   "source": [
    "# 영화 목록들을 가져온다.\n",
    "li_list = driver.find_elements_by_css_selector('#mArticle > ul.list_movie.\\#movie > li')"
   ]
  },
  {
   "cell_type": "code",
   "execution_count": 5,
   "metadata": {},
   "outputs": [],
   "source": [
    "# li 태그의 수 만큼 반복문을 돌린다.\n",
    "data_dic = {\n",
    "    'name' : [],\n",
    "    'point' : [],\n",
    "    'date' : [],\n",
    "    'percent' : []\n",
    "}\n",
    "\n",
    "for li_tag in li_list:\n",
    "    name_tag = li_tag.find_element_by_css_selector('div.wrap_movie > div > a')\n",
    "    point_tag = li_tag.find_elements_by_css_selector('div.wrap_movie > span.info_grade > a > span.wrap_grade.grade_netizen > span.num_grade')\n",
    "    date_tag = li_tag.find_element_by_css_selector('div.wrap_movie > span.info_state')\n",
    "\n",
    "#     print(name_tag.text)\n",
    "#     print(point_tag[0].text)\n",
    "#     print(point_tag[1].text)\n",
    "#     print(point_tag[2].text)\n",
    "#     print(date_tag.text.split())\n",
    "# ['20.01.22', '개봉', '・', '예매율', '55.41%']\n",
    "#     print('-'*20)\n",
    "    \n",
    "    name_value = name_tag.text.strip()\n",
    "    point_value = f'{point_tag[0].text[1]}.{point_tag[2].text[1]}'\n",
    "    date_value = date_tag.text.split()[0]\n",
    "    percent_value = date_tag.text.split()[4][:-1]\n",
    "    \n",
    "#     print(name_value, point_value, date_value, percent_value)\n",
    "    \n",
    "    data_dic['name'].append(name_value)\n",
    "    data_dic['point'].append(point_value)\n",
    "    data_dic['date'].append(date_value)\n",
    "    data_dic['percent'].append(percent_value)"
   ]
  },
  {
   "cell_type": "code",
   "execution_count": 6,
   "metadata": {},
   "outputs": [
    {
     "name": "stdout",
     "output_type": "stream",
     "text": [
      "저장완료\n"
     ]
    }
   ],
   "source": [
    "import pandas\n",
    "\n",
    "df1 = pandas.DataFrame.from_dict(data_dic)\n",
    "df1.to_csv('daum_movie.csv', encoding='utf-8-sig', index=False)\n",
    "print('저장완료')"
   ]
  },
  {
   "cell_type": "code",
   "execution_count": null,
   "metadata": {},
   "outputs": [],
   "source": []
  }
 ],
 "metadata": {
  "kernelspec": {
   "display_name": "Python 3",
   "language": "python",
   "name": "python3"
  },
  "language_info": {
   "codemirror_mode": {
    "name": "ipython",
    "version": 3
   },
   "file_extension": ".py",
   "mimetype": "text/x-python",
   "name": "python",
   "nbconvert_exporter": "python",
   "pygments_lexer": "ipython3",
   "version": "3.7.3"
  }
 },
 "nbformat": 4,
 "nbformat_minor": 2
}
