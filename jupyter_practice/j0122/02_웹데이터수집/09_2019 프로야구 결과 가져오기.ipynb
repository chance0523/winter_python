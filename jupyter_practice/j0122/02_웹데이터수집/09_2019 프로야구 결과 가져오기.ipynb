{
 "cells": [
  {
   "cell_type": "code",
   "execution_count": 1,
   "metadata": {},
   "outputs": [],
   "source": [
    "from selenium import webdriver"
   ]
  },
  {
   "cell_type": "code",
   "execution_count": 2,
   "metadata": {},
   "outputs": [],
   "source": [
    "# 웹 드라이버 로딩\n",
    "driver = webdriver.Chrome()"
   ]
  },
  {
   "cell_type": "code",
   "execution_count": 3,
   "metadata": {},
   "outputs": [],
   "source": [
    "# 페이지 요청\n",
    "driver.get('https://sports.news.naver.com/kbaseball/schedule/index.nhn')"
   ]
  },
  {
   "cell_type": "code",
   "execution_count": 16,
   "metadata": {},
   "outputs": [],
   "source": [
    "# 스크립트를 실행시켜 원하는 날짜가 나오도록 한다.\n",
    "driver.execute_script(\"scoreBoardInstance.setScoreBoard('20190312');\")"
   ]
  },
  {
   "cell_type": "code",
   "execution_count": 17,
   "metadata": {},
   "outputs": [
    {
     "name": "stdout",
     "output_type": "stream",
     "text": [
      "경기 있음\n"
     ]
    }
   ],
   "source": [
    "# 스케줄 표 전체를 가져온다.\n",
    "sch_score_tag = driver.find_element_by_css_selector('#sch_recent_scoreboard > div > div')\n",
    "# print(sch_score_tag.text)\n",
    "temp = sch_score_tag.find_elements_by_css_selector('.banner_mon')\n",
    "if len(temp) == 0:\n",
    "    print('경기 있음')\n",
    "else:\n",
    "    print('경기 없음')"
   ]
  },
  {
   "cell_type": "code",
   "execution_count": null,
   "metadata": {},
   "outputs": [],
   "source": []
  }
 ],
 "metadata": {
  "kernelspec": {
   "display_name": "Python 3",
   "language": "python",
   "name": "python3"
  },
  "language_info": {
   "codemirror_mode": {
    "name": "ipython",
    "version": 3
   },
   "file_extension": ".py",
   "mimetype": "text/x-python",
   "name": "python",
   "nbconvert_exporter": "python",
   "pygments_lexer": "ipython3",
   "version": "3.7.3"
  }
 },
 "nbformat": 4,
 "nbformat_minor": 2
}
