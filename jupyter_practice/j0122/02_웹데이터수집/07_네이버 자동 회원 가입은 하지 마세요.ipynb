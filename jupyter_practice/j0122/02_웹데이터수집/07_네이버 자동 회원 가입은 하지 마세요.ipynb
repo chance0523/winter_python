{
 "cells": [
  {
   "cell_type": "code",
   "execution_count": 1,
   "metadata": {},
   "outputs": [],
   "source": [
    "from selenium import webdriver\n",
    "from selenium.webdriver.support.ui import Select"
   ]
  },
  {
   "cell_type": "code",
   "execution_count": 2,
   "metadata": {},
   "outputs": [],
   "source": [
    "# 웹드라이버 실행\n",
    "driver = webdriver.Chrome()"
   ]
  },
  {
   "cell_type": "code",
   "execution_count": 3,
   "metadata": {},
   "outputs": [],
   "source": [
    "# 네이버 사이트를 요청한다.\n",
    "driver.get('https://naver.com')"
   ]
  },
  {
   "cell_type": "code",
   "execution_count": 4,
   "metadata": {},
   "outputs": [],
   "source": [
    "# 회원가입을 클릭한다. (Copy -> Copy selector)\n",
    "a_tag = driver.find_element_by_css_selector('#account > div > div > a')\n",
    "a_tag.click()"
   ]
  },
  {
   "cell_type": "code",
   "execution_count": 5,
   "metadata": {},
   "outputs": [],
   "source": [
    "# 약관동의\n",
    "checkbox_tag = driver.find_element_by_css_selector('#join_form > div.terms_p > p > span > label')\n",
    "checkbox_tag.click()"
   ]
  },
  {
   "cell_type": "code",
   "execution_count": 6,
   "metadata": {},
   "outputs": [],
   "source": [
    "# 확인 버튼 클릭\n",
    "agree_btn = driver.find_element_by_css_selector('#btnAgree')\n",
    "agree_btn.click()"
   ]
  },
  {
   "cell_type": "code",
   "execution_count": 12,
   "metadata": {},
   "outputs": [],
   "source": [
    "# 정보 입력\n",
    "input_id = driver.find_element_by_css_selector('#id')\n",
    "input_id.send_keys('agorianr')"
   ]
  },
  {
   "cell_type": "code",
   "execution_count": 13,
   "metadata": {},
   "outputs": [],
   "source": [
    "# 비밀번호 입력\n",
    "input_pw1 = driver.find_element_by_css_selector('#pswd1')\n",
    "input_pw1.send_keys('ABC123zz!!')"
   ]
  },
  {
   "cell_type": "code",
   "execution_count": 14,
   "metadata": {},
   "outputs": [],
   "source": [
    "# 비밀번호 확인\n",
    "input_pw2 = driver.find_element_by_css_selector('#pswd2')\n",
    "input_pw2.send_keys('ABC123zz!!')"
   ]
  },
  {
   "cell_type": "code",
   "execution_count": 15,
   "metadata": {},
   "outputs": [],
   "source": [
    "# 이름 입력\n",
    "input_name = driver.find_element_by_css_selector('#name')\n",
    "input_name.send_keys('서정준')"
   ]
  },
  {
   "cell_type": "code",
   "execution_count": 16,
   "metadata": {},
   "outputs": [],
   "source": [
    "# 연도 입력\n",
    "input_year = driver.find_element_by_css_selector('#yy')\n",
    "input_year.send_keys('1995')"
   ]
  },
  {
   "cell_type": "code",
   "execution_count": 18,
   "metadata": {},
   "outputs": [],
   "source": [
    "# 월 입력\n",
    "input_month = driver.find_element_by_css_selector('#mm')\n",
    "select_tag = Select(input_month)\n",
    "select_tag.select_by_value('05')"
   ]
  },
  {
   "cell_type": "code",
   "execution_count": 19,
   "metadata": {},
   "outputs": [],
   "source": [
    "# 일 입력\n",
    "input_day = driver.find_element_by_css_selector('#dd')\n",
    "input_day.send_keys('23')"
   ]
  },
  {
   "cell_type": "code",
   "execution_count": 20,
   "metadata": {},
   "outputs": [],
   "source": [
    "# 성별 입력\n",
    "input_gender = driver.find_element_by_css_selector('#gender')\n",
    "select_tag2 = Select(input_gender)\n",
    "select_tag2.select_by_value('M')"
   ]
  },
  {
   "cell_type": "code",
   "execution_count": 21,
   "metadata": {},
   "outputs": [],
   "source": [
    "# 이메일 입력\n",
    "input_email = driver.find_element_by_css_selector('#email')\n",
    "input_email.send_keys('samuel950523@hanmail.net')"
   ]
  },
  {
   "cell_type": "code",
   "execution_count": 23,
   "metadata": {},
   "outputs": [],
   "source": [
    "# 휴대폰 번호 입력\n",
    "input_phoneNo = driver.find_element_by_css_selector('#phoneNo')\n",
    "input_phoneNo.send_keys('01027223641')"
   ]
  },
  {
   "cell_type": "code",
   "execution_count": 24,
   "metadata": {},
   "outputs": [],
   "source": [
    "# 인증번호 받기 클릭\n",
    "btn_send = driver.find_element_by_css_selector('#btnSend')\n",
    "btn_send.click()"
   ]
  },
  {
   "cell_type": "code",
   "execution_count": 27,
   "metadata": {},
   "outputs": [
    {
     "name": "stdout",
     "output_type": "stream",
     "text": [
      "인증번호를 입력해주세요 : 1478\n"
     ]
    }
   ],
   "source": [
    "#1478\n",
    "sms_code = input('인증번호를 입력해주세요 : ')\n",
    "auth_no = driver.find_element_by_css_selector('#authNo')\n",
    "auth_no.send_keys(sms_code)"
   ]
  },
  {
   "cell_type": "code",
   "execution_count": null,
   "metadata": {},
   "outputs": [],
   "source": [
    "# 가입버튼 절대 never 주석을 풀지 마세요\n",
    "###### btn_join = ##### driver.find_element_바이css셀렉터('#####btnJoin')\n",
    "###### btn_join.###클릭()"
   ]
  }
 ],
 "metadata": {
  "kernelspec": {
   "display_name": "Python 3",
   "language": "python",
   "name": "python3"
  },
  "language_info": {
   "codemirror_mode": {
    "name": "ipython",
    "version": 3
   },
   "file_extension": ".py",
   "mimetype": "text/x-python",
   "name": "python",
   "nbconvert_exporter": "python",
   "pygments_lexer": "ipython3",
   "version": "3.7.3"
  }
 },
 "nbformat": 4,
 "nbformat_minor": 2
}
